{
 "cells": [
  {
   "cell_type": "code",
   "execution_count": 1,
   "metadata": {},
   "outputs": [],
   "source": [
    "import numpy as np\n",
    "import random\n",
    "import string"
   ]
  },
  {
   "cell_type": "markdown",
   "metadata": {},
   "source": [
    "1. heredity\n",
    "2. variation\n",
    "3. selection\n",
    "4. heredity\n",
    "Create a random  pop of N elements \"unicorn\"\n",
    "e.g.: whole set of words with 7 characters\n",
    "\n",
    "    def setup():\n",
    "\n",
    "    def draw():\n",
    "\n",
    "        #A. calculate fitness for every single member of the population; (e.g. 1/ how many matching characters; 2. their positions)\n",
    "        #B. reproduction / selection\n",
    "        #    1. pick two parents (two is a parameter): a single element makes an entire copy of itself\n",
    "        #    2. selection? e.g. top 2 or the entire population assign the probability \n",
    "        #    -crossover: e.g. splitting the word in 2 halves, get one from each\n",
    "                             -random split indeces\n",
    "        #    -mutation\n",
    "             -\n",
    "        #N times"
   ]
  },
  {
   "cell_type": "code",
   "execution_count": 2,
   "metadata": {},
   "outputs": [],
   "source": [
    "# def setup(word):\n",
    "target = \"unicorn\"\n",
    "L = len(target)\n",
    "population = 100\n",
    "\n",
    "# for in in range(population): "
   ]
  },
  {
   "cell_type": "code",
   "execution_count": 3,
   "metadata": {},
   "outputs": [
    {
     "ename": "SyntaxError",
     "evalue": "invalid syntax (<ipython-input-3-27e18fad3c89>, line 1)",
     "output_type": "error",
     "traceback": [
      "\u001b[1;36m  File \u001b[1;32m\"<ipython-input-3-27e18fad3c89>\"\u001b[1;36m, line \u001b[1;32m1\u001b[0m\n\u001b[1;33m    mport random\u001b[0m\n\u001b[1;37m               ^\u001b[0m\n\u001b[1;31mSyntaxError\u001b[0m\u001b[1;31m:\u001b[0m invalid syntax\n"
     ]
    }
   ],
   "source": [
    "mport random\n",
    "import string\n",
    "def randomString(stringLength=10):\n",
    "    \"\"\"Generate a random string of fixed length \"\"\"\n",
    "    letters = string.ascii_lowercase\n",
    "    return ''.join(random.choice(letters) for i in range(stringLength))\n",
    "print (\"Random String is \", randomString() )\n",
    "print (\"Random String is \", randomString(10) )\n",
    "print (\"Random String is \", randomString(10) )"
   ]
  },
  {
   "cell_type": "code",
   "execution_count": null,
   "metadata": {},
   "outputs": [],
   "source": []
  }
 ],
 "metadata": {
  "kernelspec": {
   "display_name": "Python 3",
   "language": "python",
   "name": "python3"
  },
  "language_info": {
   "codemirror_mode": {
    "name": "ipython",
    "version": 3
   },
   "file_extension": ".py",
   "mimetype": "text/x-python",
   "name": "python",
   "nbconvert_exporter": "python",
   "pygments_lexer": "ipython3",
   "version": "3.6.8"
  }
 },
 "nbformat": 4,
 "nbformat_minor": 2
}
