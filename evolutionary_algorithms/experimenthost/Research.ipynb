{
 "cells": [
  {
   "cell_type": "code",
   "execution_count": 105,
   "metadata": {},
   "outputs": [],
   "source": [
    "# Functional Programming\n",
    "\n",
    "def multiply_num(x1, x2):\n",
    "    return x1 * x2\n",
    "\n",
    "def sum_num(x1, x2, x3):\n",
    "    return x1 + x2 + x3\n",
    "\n",
    "def multiply_sum(sums, multiply):\n",
    "    print(*sums)\n",
    "    print(sum_num(*sums))\n",
    "    print(multiply_num(*multiply))"
   ]
  },
  {
   "cell_type": "markdown",
   "metadata": {},
   "source": [
    "# GLO - Tree"
   ]
  },
  {
   "cell_type": "code",
   "execution_count": 106,
   "metadata": {},
   "outputs": [],
   "source": [
    "import numpy as np\n",
    "import random\n",
    "\n",
    "class FunctionLib:\n",
    "    \n",
    "    FUNCTIONS = {\n",
    "        \"U\": [np.cos,\n",
    "        np.sin,\n",
    "        np.log,\n",
    "        np.exp,\n",
    "        np.mean],\n",
    "        \n",
    "        \"B\": [\"+\", \"-\", \"*\", \"/\"],\n",
    "        \n",
    "        \"L\": [\"x\", \"y\", 1, -1]\n",
    "    }\n",
    "    \n",
    "    @classmethod\n",
    "    def sample(cls, operator_type):\n",
    "        import random\n",
    "        assert operator_type.upper() in cls.FUNCTIONS.keys(), \\\n",
    "        \"Function not availaible\"\n",
    "        \n",
    "        functions_available = cls.FUNCTIONS.get(operator_type)\n",
    "        sampled_function = functions_available[random.randint(0, \n",
    "                                                              len(functions_available) - 1)]\n",
    "    \n",
    "        \n",
    "        return {operator_type.upper(): sampled_function}\n",
    "    \n",
    "    @classmethod\n",
    "    def get_required_literals(cls):\n",
    "        return {\"L\": cls.FUNCTIONS[\"L\"][:2]}\n",
    "    \n",
    "    @classmethod\n",
    "    def get_availaible_coeff(cls):\n",
    "        return {\"L\": cls.FUNCTIONS[\"L\"][1:]}\n",
    "\n",
    "class Node:\n",
    "    \n",
    "    def __init__(self, value, operator_type):\n",
    "        self.type = operator_type\n",
    "        self.value = value\n",
    "        self.childeren = [None, None]\n",
    "        \n",
    "    @staticmethod\n",
    "    def generate_node(operator_type):\n",
    "        operator_type = operator_type.upper()\n",
    "        function = FunctionLib().sample(operator_type)\n",
    "        node = Node(function, operator_type)\n",
    "        \n",
    "        return node\n",
    "    \n",
    "class Tree:\n",
    "    \n",
    "    def __init__(self, max_height):\n",
    "        self.nodes = []\n",
    "        self.root_node = self.initialize_root()\n",
    "        \n",
    "    def initialize_root(self):\n",
    "        root_node_type = [\"U\", \"B\"][random.randint(0,1)]\n",
    "        root_value = list(FunctionLib().sample(root_node_type).values())[0]\n",
    "        \n",
    "        root_node = Node(root_value, root_node_type)\n",
    "        \n",
    "        return root_node\n",
    "    \n",
    "    def construct_tree(self, node, height):\n",
    "        if node.type = \"U\"\n",
    "            node.children = \n",
    "            node.value = FunctionLib().sample(node.type)\n",
    "        if current_height == "
   ]
  },
  {
   "cell_type": "code",
   "execution_count": 107,
   "metadata": {},
   "outputs": [],
   "source": [
    "tree = Tree(3)"
   ]
  },
  {
   "cell_type": "code",
   "execution_count": 108,
   "metadata": {},
   "outputs": [
    {
     "data": {
      "text/plain": [
       "<function numpy.mean(a, axis=None, dtype=None, out=None, keepdims=<no value>)>"
      ]
     },
     "execution_count": 108,
     "metadata": {},
     "output_type": "execute_result"
    }
   ],
   "source": [
    "tree.root_node.value"
   ]
  },
  {
   "cell_type": "code",
   "execution_count": null,
   "metadata": {},
   "outputs": [],
   "source": []
  }
 ],
 "metadata": {
  "kernelspec": {
   "display_name": "Python 3",
   "language": "python",
   "name": "python3"
  },
  "language_info": {
   "codemirror_mode": {
    "name": "ipython",
    "version": 3
   },
   "file_extension": ".py",
   "mimetype": "text/x-python",
   "name": "python",
   "nbconvert_exporter": "python",
   "pygments_lexer": "ipython3",
   "version": "3.7.3"
  }
 },
 "nbformat": 4,
 "nbformat_minor": 2
}
